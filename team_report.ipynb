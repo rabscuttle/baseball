{
 "cells": [
  {
   "cell_type": "code",
   "execution_count": 20,
   "metadata": {},
   "outputs": [],
   "source": [
    "# Import\n",
    "import pandas as pd\n",
    "import requests\n",
    "import json\n",
    "import inspect\n",
    "from lxml import html\n",
    "from pathlib import Path\n",
    "from sportsreference.mlb.roster import Player\n",
    "from sportsreference.mlb.roster import Roster\n",
    "from bs4 import BeautifulSoup as bs\n",
    "import urllib.request"
   ]
  },
  {
   "cell_type": "code",
   "execution_count": 2,
   "metadata": {},
   "outputs": [],
   "source": [
    "# Variables\n",
    "file_name = \"FFS MLB Sheet.xlsx\"\n",
    "team = \"ATL\""
   ]
  },
  {
   "cell_type": "code",
   "execution_count": null,
   "metadata": {},
   "outputs": [],
   "source": [
    "# Import FFS MLB Sheet\n",
    "# Read Player Names\n",
    "name_cols = \"G\"\n",
    "player_list = []\n",
    "\n",
    "# Loop through each tab to pull list of player names\n",
    "for team in ffs_teams_list:\n",
    "    sheet = pd.read_excel(file_name, \n",
    "        sheet_name=team,\n",
    "        usecols=name_cols,\n",
    "        skiprows=2)"
   ]
  },
  {
   "cell_type": "code",
   "execution_count": 72,
   "metadata": {},
   "outputs": [
    {
     "data": {
      "text/plain": [
       "['Year',\n",
       " 'Age',\n",
       " 'Tm',\n",
       " 'Lg',\n",
       " 'G',\n",
       " 'PA',\n",
       " 'AB',\n",
       " 'R',\n",
       " 'H',\n",
       " '2B',\n",
       " '3B',\n",
       " 'HR',\n",
       " 'RBI',\n",
       " 'SB',\n",
       " 'CS',\n",
       " 'BB',\n",
       " 'SO',\n",
       " 'BA',\n",
       " 'OBP',\n",
       " 'SLG',\n",
       " 'OPS',\n",
       " 'OPS+',\n",
       " 'TB',\n",
       " 'GDP',\n",
       " 'HBP',\n",
       " 'SH',\n",
       " 'SF',\n",
       " 'IBB',\n",
       " 'Pos',\n",
       " 'Awards']"
      ]
     },
     "execution_count": 72,
     "metadata": {},
     "output_type": "execute_result"
    }
   ],
   "source": [
    "#Variables\n",
    "col_headers = []\n",
    "\n",
    "url = \"https://www.baseball-reference.com/players/a/altuvjo01.shtml\"\n",
    "source = urllib.request.urlopen(url).read()\n",
    "soup = bs(source, 'lxml')\n",
    "headers = soup.find('thead')\n",
    "columns = headers.find('tr')\n",
    "for column in columns:\n",
    "    try:\n",
    "        col_headers.append(column.text)\n",
    "    except:\n",
    "        pass\n",
    "col_headers"
   ]
  },
  {
   "cell_type": "code",
   "execution_count": 75,
   "metadata": {},
   "outputs": [
    {
     "data": {
      "text/plain": [
       "['2020',\n",
       " '30',\n",
       " 'HOU',\n",
       " 'AL',\n",
       " '32',\n",
       " '145',\n",
       " '133',\n",
       " '20',\n",
       " '28',\n",
       " '5',\n",
       " '0',\n",
       " '3',\n",
       " '12',\n",
       " '2',\n",
       " '2',\n",
       " '11',\n",
       " '28',\n",
       " '.211',\n",
       " '.276',\n",
       " '.316',\n",
       " '.592',\n",
       " '58',\n",
       " '42',\n",
       " '5',\n",
       " '1',\n",
       " '0',\n",
       " '0',\n",
       " '0',\n",
       " '*4',\n",
       " '']"
      ]
     },
     "execution_count": 75,
     "metadata": {},
     "output_type": "execute_result"
    }
   ],
   "source": [
    "\n",
    "year = '2020'\n",
    "stats = [year]\n",
    "\n",
    "#url = \"https://www.baseball-reference.com/search/search.fcgi?search=jose+altuve\"\n",
    "url = \"https://www.baseball-reference.com/players/a/altuvjo01.shtml\"\n",
    "source = urllib.request.urlopen(url).read()\n",
    "soup = bs(source, 'lxml')\n",
    "year_stats = soup.find(id='batting_standard.'+year)\n",
    "rows = year_stats.find_all('td')\n",
    "\n",
    "for row in rows:    \n",
    "    try:\n",
    "        stats.append(row.text)\n",
    "    except:\n",
    "        stats.append('')\n",
    "stats"
   ]
  },
  {
   "cell_type": "code",
   "execution_count": 80,
   "metadata": {},
   "outputs": [
    {
     "data": {
      "text/plain": [
       "[('Year', '2020'),\n",
       " ('Age', '30'),\n",
       " ('Tm', 'HOU'),\n",
       " ('Lg', 'AL'),\n",
       " ('G', '32'),\n",
       " ('PA', '145'),\n",
       " ('AB', '133'),\n",
       " ('R', '20'),\n",
       " ('H', '28'),\n",
       " ('2B', '5'),\n",
       " ('3B', '0'),\n",
       " ('HR', '3'),\n",
       " ('RBI', '12'),\n",
       " ('SB', '2'),\n",
       " ('CS', '2'),\n",
       " ('BB', '11'),\n",
       " ('SO', '28'),\n",
       " ('BA', '.211'),\n",
       " ('OBP', '.276'),\n",
       " ('SLG', '.316'),\n",
       " ('OPS', '.592'),\n",
       " ('OPS+', '58'),\n",
       " ('TB', '42'),\n",
       " ('GDP', '5'),\n",
       " ('HBP', '1'),\n",
       " ('SH', '0'),\n",
       " ('SF', '0'),\n",
       " ('IBB', '0'),\n",
       " ('Pos', '*4'),\n",
       " ('Awards', '')]"
      ]
     },
     "execution_count": 80,
     "metadata": {},
     "output_type": "execute_result"
    }
   ],
   "source": [
    "stats_tuple = list(zip(col_headers, stats))\n",
    "stats_tuple"
   ]
  },
  {
   "cell_type": "code",
   "execution_count": null,
   "metadata": {},
   "outputs": [],
   "source": []
  }
 ],
 "metadata": {
  "kernelspec": {
   "display_name": "Python 3",
   "language": "python",
   "name": "python3"
  },
  "language_info": {
   "codemirror_mode": {
    "name": "ipython",
    "version": 3
   },
   "file_extension": ".py",
   "mimetype": "text/x-python",
   "name": "python",
   "nbconvert_exporter": "python",
   "pygments_lexer": "ipython3",
   "version": "3.8.3"
  }
 },
 "nbformat": 4,
 "nbformat_minor": 4
}
